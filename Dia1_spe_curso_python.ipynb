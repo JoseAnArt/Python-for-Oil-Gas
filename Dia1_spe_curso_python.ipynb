{
  "nbformat": 4,
  "nbformat_minor": 0,
  "metadata": {
    "colab": {
      "name": "Dia1_spe_curso_python.ipynb",
      "provenance": [],
      "collapsed_sections": [],
      "authorship_tag": "ABX9TyMjeIgLxMueFRmxAqsbseEW"
    },
    "kernelspec": {
      "name": "python3",
      "display_name": "Python 3"
    },
    "language_info": {
      "name": "python"
    }
  },
  "cells": [
    {
      "cell_type": "markdown",
      "source": [
        "**Print y tipos de datos**"
      ],
      "metadata": {
        "id": "PyWFhrRC3VmS"
      }
    },
    {
      "cell_type": "markdown",
      "source": [
        "Tipos de Datos:\n",
        "* string\n",
        "* integer\n",
        "* float\n",
        "* Booleans\n",
        "* Complex numbers\n"
      ],
      "metadata": {
        "id": "wmuWIxHV3VGd"
      }
    },
    {
      "cell_type": "markdown",
      "source": [
        "**String**\n"
      ],
      "metadata": {
        "id": "2WYS-1Lu5Itl"
      }
    },
    {
      "cell_type": "code",
      "source": [
        "print(\"hola como están\")"
      ],
      "metadata": {
        "id": "C_mIL_af5x2l"
      },
      "execution_count": null,
      "outputs": []
    },
    {
      "cell_type": "code",
      "source": [
        "dato= \"11\"\n",
        "print(dato)\n",
        "type(dato)"
      ],
      "metadata": {
        "id": "-JClxKBl6dqy"
      },
      "execution_count": null,
      "outputs": []
    },
    {
      "cell_type": "code",
      "source": [
        "type(\"hola\")"
      ],
      "metadata": {
        "id": "CqCW-qcZ6jpV"
      },
      "execution_count": null,
      "outputs": []
    },
    {
      "cell_type": "markdown",
      "source": [
        "**Integer**"
      ],
      "metadata": {
        "id": "wxe8T9YF64Di"
      }
    },
    {
      "cell_type": "code",
      "source": [
        "print(9)\n",
        "print(15338)\n",
        "type(125555)"
      ],
      "metadata": {
        "id": "dw9L4TMq6_4i"
      },
      "execution_count": null,
      "outputs": []
    },
    {
      "cell_type": "markdown",
      "source": [
        "**Float**\n",
        "\n",
        "\n",
        "\n"
      ],
      "metadata": {
        "id": "YpTkQcrr8C_K"
      }
    },
    {
      "cell_type": "code",
      "source": [
        "print(8.914)"
      ],
      "metadata": {
        "id": "4z1YQo8o7GHd"
      },
      "execution_count": null,
      "outputs": []
    },
    {
      "cell_type": "code",
      "source": [
        "import math\n"
      ],
      "metadata": {
        "id": "8kfpln1j8Pl7"
      },
      "execution_count": 13,
      "outputs": []
    },
    {
      "cell_type": "code",
      "source": [
        "pi= math.pi\n",
        "euler= math.e"
      ],
      "metadata": {
        "id": "8-0SHoNr8MYj"
      },
      "execution_count": null,
      "outputs": []
    },
    {
      "cell_type": "code",
      "source": [
        "print(type(pi))\n",
        "type(euler)"
      ],
      "metadata": {
        "id": "PgBrZquo8Z80"
      },
      "execution_count": null,
      "outputs": []
    },
    {
      "cell_type": "markdown",
      "source": [
        "**Complex numbers**"
      ],
      "metadata": {
        "id": "t3k-zJSW9B66"
      }
    },
    {
      "cell_type": "code",
      "source": [
        "print(\"4+5j\")\n"
      ],
      "metadata": {
        "id": "bphYzKud8k-E"
      },
      "execution_count": null,
      "outputs": []
    },
    {
      "cell_type": "code",
      "source": [
        "type(4+5j)"
      ],
      "metadata": {
        "id": "0SzIKa189cJ5"
      },
      "execution_count": null,
      "outputs": []
    },
    {
      "cell_type": "markdown",
      "source": [
        "**Booleans**"
      ],
      "metadata": {
        "id": "1BkYCpZO-F0U"
      }
    },
    {
      "cell_type": "code",
      "source": [
        "# True and False\n",
        "\n",
        "print(False)"
      ],
      "metadata": {
        "id": "ptMqoBj99198"
      },
      "execution_count": null,
      "outputs": []
    },
    {
      "cell_type": "markdown",
      "source": [
        ""
      ],
      "metadata": {
        "id": "syySlaYlEYou"
      }
    },
    {
      "cell_type": "markdown",
      "source": [
        "**Operadores matematicos**"
      ],
      "metadata": {
        "id": "gVHiSVYjEZ-l"
      }
    },
    {
      "cell_type": "markdown",
      "source": [
        "   **Suma**"
      ],
      "metadata": {
        "id": "TLePiSvZEk9K"
      }
    },
    {
      "cell_type": "code",
      "source": [
        "print(5+6)"
      ],
      "metadata": {
        "colab": {
          "base_uri": "https://localhost:8080/"
        },
        "id": "ufGrHlXAAWVj",
        "outputId": "2f1834c2-1808-4891-a3af-2bfc337750b6"
      },
      "execution_count": 54,
      "outputs": [
        {
          "output_type": "stream",
          "name": "stdout",
          "text": [
            "11\n"
          ]
        }
      ]
    },
    {
      "cell_type": "code",
      "source": [
        "print((4+7j)+(12+2j))"
      ],
      "metadata": {
        "colab": {
          "base_uri": "https://localhost:8080/"
        },
        "id": "pL5T9p6MEw69",
        "outputId": "8b155adb-1c67-4c27-e45d-f08fc6fc7eba"
      },
      "execution_count": 58,
      "outputs": [
        {
          "output_type": "stream",
          "name": "stdout",
          "text": [
            "(16+9j)\n"
          ]
        }
      ]
    },
    {
      "cell_type": "markdown",
      "source": [
        "**Resta**"
      ],
      "metadata": {
        "id": "my6znxFlFMHT"
      }
    },
    {
      "cell_type": "code",
      "source": [
        "print(9-8)\n"
      ],
      "metadata": {
        "colab": {
          "base_uri": "https://localhost:8080/"
        },
        "id": "SzKYL5uyE_Kt",
        "outputId": "b973a665-2fc6-4be9-b629-0368d71fa22e"
      },
      "execution_count": 60,
      "outputs": [
        {
          "output_type": "stream",
          "name": "stdout",
          "text": [
            "1\n"
          ]
        }
      ]
    },
    {
      "cell_type": "code",
      "source": [
        "print((4+7j)-(12-2j))"
      ],
      "metadata": {
        "colab": {
          "base_uri": "https://localhost:8080/"
        },
        "id": "oXuzlx8PFbnN",
        "outputId": "64cac4e5-8322-4c3f-d048-58a8a68aeec4"
      },
      "execution_count": 61,
      "outputs": [
        {
          "output_type": "stream",
          "name": "stdout",
          "text": [
            "(-8+9j)\n"
          ]
        }
      ]
    },
    {
      "cell_type": "markdown",
      "source": [
        "**Division**\n"
      ],
      "metadata": {
        "id": "d8-Hbvg8FtWT"
      }
    },
    {
      "cell_type": "code",
      "source": [
        "print(122//9)\n",
        "print(122/77)"
      ],
      "metadata": {
        "colab": {
          "base_uri": "https://localhost:8080/"
        },
        "id": "NpZf_ZX9Fji3",
        "outputId": "33e38996-d007-464c-a58c-20c5bbdb3b85"
      },
      "execution_count": 81,
      "outputs": [
        {
          "output_type": "stream",
          "name": "stdout",
          "text": [
            "13\n",
            "1.5844155844155845\n"
          ]
        }
      ]
    },
    {
      "cell_type": "code",
      "source": [
        "round(122/9,1)"
      ],
      "metadata": {
        "colab": {
          "base_uri": "https://localhost:8080/"
        },
        "id": "qgQ0dSKCF41i",
        "outputId": "9a81797e-095b-4f7e-a390-12cc4e7cd9ad"
      },
      "execution_count": 87,
      "outputs": [
        {
          "output_type": "execute_result",
          "data": {
            "text/plain": [
              "13.6"
            ]
          },
          "metadata": {},
          "execution_count": 87
        }
      ]
    },
    {
      "cell_type": "markdown",
      "source": [
        "**Multiplicacion**"
      ],
      "metadata": {
        "id": "5ZLyHXT2Hc5j"
      }
    },
    {
      "cell_type": "code",
      "source": [
        "print(4*5)"
      ],
      "metadata": {
        "colab": {
          "base_uri": "https://localhost:8080/"
        },
        "id": "YVF0k3pJGVn9",
        "outputId": "7676b80e-5f9e-4583-a8a6-1ba525dabf77"
      },
      "execution_count": 82,
      "outputs": [
        {
          "output_type": "stream",
          "name": "stdout",
          "text": [
            "20\n"
          ]
        }
      ]
    },
    {
      "cell_type": "markdown",
      "source": [
        "**Expontes**"
      ],
      "metadata": {
        "id": "QPGAdANaHm-M"
      }
    },
    {
      "cell_type": "code",
      "source": [
        "print(14**2)"
      ],
      "metadata": {
        "colab": {
          "base_uri": "https://localhost:8080/"
        },
        "id": "dt1IydU4HjFf",
        "outputId": "ffe04f54-745f-47c0-b847-8d07f4cd4f61"
      },
      "execution_count": 83,
      "outputs": [
        {
          "output_type": "stream",
          "name": "stdout",
          "text": [
            "196\n"
          ]
        }
      ]
    },
    {
      "cell_type": "code",
      "source": [
        ""
      ],
      "metadata": {
        "id": "rd2rnMpFHvHM"
      },
      "execution_count": 86,
      "outputs": []
    },
    {
      "cell_type": "markdown",
      "source": [
        "**Modulo (%) o Residuo**"
      ],
      "metadata": {
        "id": "dSd_dzbsI4fW"
      }
    },
    {
      "cell_type": "code",
      "source": [
        "print(22%2)"
      ],
      "metadata": {
        "colab": {
          "base_uri": "https://localhost:8080/"
        },
        "id": "EatlJft2H8w8",
        "outputId": "84e80278-e06b-4b35-8f41-da64f1f3757c"
      },
      "execution_count": 91,
      "outputs": [
        {
          "output_type": "stream",
          "name": "stdout",
          "text": [
            "0\n"
          ]
        }
      ]
    },
    {
      "cell_type": "markdown",
      "source": [
        "**Variables en python**"
      ],
      "metadata": {
        "id": "HWfqPm66Qh66"
      }
    },
    {
      "cell_type": "code",
      "source": [
        "a=5\n",
        "b=7\n",
        "print(a+b)\n",
        "print(a)\n",
        "print(b)"
      ],
      "metadata": {
        "colab": {
          "base_uri": "https://localhost:8080/"
        },
        "id": "IuK-SXvSQs5K",
        "outputId": "daebb51a-5019-48ab-a545-5a81d06f9ee8"
      },
      "execution_count": 110,
      "outputs": [
        {
          "output_type": "stream",
          "name": "stdout",
          "text": [
            "12\n",
            "5\n",
            "7\n"
          ]
        }
      ]
    },
    {
      "cell_type": "code",
      "source": [
        "print(a*b)"
      ],
      "metadata": {
        "colab": {
          "base_uri": "https://localhost:8080/"
        },
        "id": "sQLXncLXQzDZ",
        "outputId": "c9480802-c79e-4319-8d9a-84510413aafa"
      },
      "execution_count": 111,
      "outputs": [
        {
          "output_type": "stream",
          "name": "stdout",
          "text": [
            "35\n"
          ]
        }
      ]
    },
    {
      "cell_type": "code",
      "source": [
        "a=-544\n",
        "b=0.5544\n",
        "print(a*b)"
      ],
      "metadata": {
        "colab": {
          "base_uri": "https://localhost:8080/"
        },
        "id": "a-FOpiktQ-D6",
        "outputId": "bd9dad9d-c398-47ff-b3aa-75c107c58c73"
      },
      "execution_count": 112,
      "outputs": [
        {
          "output_type": "stream",
          "name": "stdout",
          "text": [
            "-301.5936\n"
          ]
        }
      ]
    },
    {
      "cell_type": "code",
      "source": [
        "a=2.5\n",
        "b= 12+5j\n",
        "print(a+b)"
      ],
      "metadata": {
        "colab": {
          "base_uri": "https://localhost:8080/"
        },
        "id": "PRzt57-kRI55",
        "outputId": "2bfef64b-a8f1-48f9-d96e-3dc252c59d0a"
      },
      "execution_count": 117,
      "outputs": [
        {
          "output_type": "stream",
          "name": "stdout",
          "text": [
            "(14.5+5j)\n"
          ]
        }
      ]
    },
    {
      "cell_type": "code",
      "source": [
        "a=\"manzanas\"\n",
        "print(a)"
      ],
      "metadata": {
        "colab": {
          "base_uri": "https://localhost:8080/"
        },
        "id": "sqWInJbURjXn",
        "outputId": "04c9f3e9-d0bf-4592-ee22-c2498a10c92a"
      },
      "execution_count": 118,
      "outputs": [
        {
          "output_type": "stream",
          "name": "stdout",
          "text": [
            "manzanas\n"
          ]
        }
      ]
    },
    {
      "cell_type": "markdown",
      "source": [
        "**Reglas para los nombres de variables**\n",
        "* la variable siempre debe empezar por una letra o un subguion\n",
        "* el nombre de la variables solo puede contener letras alfabeticas, numeros y subguion\n",
        "* la variable nunca puede empezar con un numero"
      ],
      "metadata": {
        "id": "HbtUKbrbR7y6"
      }
    },
    {
      "cell_type": "code",
      "source": [
        "_j= \"carro\"\n",
        "j_=88\n",
        "#jk_$= True\n",
        "#4dat= 0.1455\n",
        "\n"
      ],
      "metadata": {
        "id": "nOgfEnh8RuwB"
      },
      "execution_count": 120,
      "outputs": []
    },
    {
      "cell_type": "markdown",
      "source": [
        "**Concatenacion de String**\n"
      ],
      "metadata": {
        "id": "XVZaw0rmUgqD"
      }
    },
    {
      "cell_type": "code",
      "source": [
        "a= \"Hola\"\n",
        "b= \"Como\"\n",
        "c= \"Estas\"\n",
        "print(a+ b+c)"
      ],
      "metadata": {
        "id": "5_fqIjXtUvSX"
      },
      "execution_count": null,
      "outputs": []
    },
    {
      "cell_type": "code",
      "source": [
        "print(a*5)"
      ],
      "metadata": {
        "id": "Gh2R0yBXU6Nx"
      },
      "execution_count": null,
      "outputs": []
    },
    {
      "cell_type": "code",
      "source": [
        "Field= \"Gustavo Galindo\"\n",
        "press= 1500 #psi\n",
        "print(\"El campo \"+ Field+ \" tiene una presion de Reservorio de \"+ str(press)+ \" psi\")"
      ],
      "metadata": {
        "colab": {
          "base_uri": "https://localhost:8080/"
        },
        "id": "dLLXgVtYVcSo",
        "outputId": "80fa2b1a-b466-4873-fbd4-02a3f9dd2791"
      },
      "execution_count": 136,
      "outputs": [
        {
          "output_type": "stream",
          "name": "stdout",
          "text": [
            "El campo Gustavo Galindo tiene una presion de Reservorio de 1500 psi\n"
          ]
        }
      ]
    },
    {
      "cell_type": "code",
      "source": [
        "print(\"El campo {} tiene una presion de Resservorio de {} psi\".format(Field, press))"
      ],
      "metadata": {
        "colab": {
          "base_uri": "https://localhost:8080/"
        },
        "id": "uXF7-qWCWwuB",
        "outputId": "447643c6-3154-4e56-bb39-b09b86f6a3db"
      },
      "execution_count": 139,
      "outputs": [
        {
          "output_type": "stream",
          "name": "stdout",
          "text": [
            "El campo Gustavo Galindo tiene una presion de Resservorio de 1500 psi\n"
          ]
        }
      ]
    },
    {
      "cell_type": "markdown",
      "source": [
        "**Multivariables en una sola linea**"
      ],
      "metadata": {
        "id": "_3CjyLpbXv5y"
      }
    },
    {
      "cell_type": "code",
      "source": [
        "nombre,edad= \"jose\", 23\n",
        "print(nombre)"
      ],
      "metadata": {
        "colab": {
          "base_uri": "https://localhost:8080/"
        },
        "id": "5zlYdpyOXbHt",
        "outputId": "db5b8bc3-4ad1-433d-aa9c-cd56652e878b"
      },
      "execution_count": 143,
      "outputs": [
        {
          "output_type": "stream",
          "name": "stdout",
          "text": [
            "jose\n"
          ]
        }
      ]
    },
    {
      "cell_type": "code",
      "source": [
        "Field,press= \"Gustavo Galindo\" ,1500\n",
        "print(\"El campo {} tiene una presion de Resservorio de {} psi\".format(Field, press))"
      ],
      "metadata": {
        "colab": {
          "base_uri": "https://localhost:8080/"
        },
        "id": "eSttsImJX9Fy",
        "outputId": "c8766181-1295-4141-84d9-e7316f5ae4de"
      },
      "execution_count": 144,
      "outputs": [
        {
          "output_type": "stream",
          "name": "stdout",
          "text": [
            "El campo Gustavo Galindo tiene una presion de Resservorio de 1500 psi\n"
          ]
        }
      ]
    },
    {
      "cell_type": "code",
      "source": [
        "print(\"El campo {Field} tiene una presion de Resservorio de {press} psi\".format(Field=\"Gustavo Galindo\", press=1500 ))"
      ],
      "metadata": {
        "colab": {
          "base_uri": "https://localhost:8080/"
        },
        "id": "n67shYyHYWyj",
        "outputId": "4aa86e12-d84d-41da-da3b-5a3ba28a0b2c"
      },
      "execution_count": 146,
      "outputs": [
        {
          "output_type": "stream",
          "name": "stdout",
          "text": [
            "El campo Gustavo Galindo tiene una presion de Resservorio de 1500 psi\n"
          ]
        }
      ]
    },
    {
      "cell_type": "markdown",
      "source": [
        "**Funcion input**\n"
      ],
      "metadata": {
        "id": "ZBvC7gOwZYSz"
      }
    },
    {
      "cell_type": "code",
      "source": [
        "input(\"ingrese la gravedad API de la muestra de petróleo: \")"
      ],
      "metadata": {
        "colab": {
          "base_uri": "https://localhost:8080/",
          "height": 53
        },
        "id": "1rquH1IcYhez",
        "outputId": "f7885fbd-cfdc-4d07-ecc4-5f5f5b47855f"
      },
      "execution_count": 150,
      "outputs": [
        {
          "name": "stdout",
          "output_type": "stream",
          "text": [
            "ingrese la gravedad API de la muestra de petróleo: 35\n"
          ]
        },
        {
          "output_type": "execute_result",
          "data": {
            "text/plain": [
              "'35'"
            ],
            "application/vnd.google.colaboratory.intrinsic+json": {
              "type": "string"
            }
          },
          "metadata": {},
          "execution_count": 150
        }
      ]
    },
    {
      "cell_type": "code",
      "source": [
        "API= input(\"ingrese la gravedad API de la muestra de petróleo: \")"
      ],
      "metadata": {
        "colab": {
          "base_uri": "https://localhost:8080/"
        },
        "id": "UWpGiLxDZNNh",
        "outputId": "cbdbcc21-8009-4065-a3ab-ac93f155f69b"
      },
      "execution_count": 151,
      "outputs": [
        {
          "name": "stdout",
          "output_type": "stream",
          "text": [
            "ingrese la gravedad API de la muestra de petróleo: 35\n"
          ]
        }
      ]
    },
    {
      "cell_type": "code",
      "source": [
        "print(\"El API del crudo ingresado es : \"+str(API))"
      ],
      "metadata": {
        "colab": {
          "base_uri": "https://localhost:8080/"
        },
        "id": "lIllyMJQZxox",
        "outputId": "91a18e30-00af-4352-c571-0bbaa44dbb17"
      },
      "execution_count": 153,
      "outputs": [
        {
          "output_type": "stream",
          "name": "stdout",
          "text": [
            "El API del crudo ingresado es : 35\n"
          ]
        }
      ]
    },
    {
      "cell_type": "code",
      "source": [
        "print(\"El API del crudo ingresado es : \",API)"
      ],
      "metadata": {
        "colab": {
          "base_uri": "https://localhost:8080/"
        },
        "id": "yDJQbxoJZzNk",
        "outputId": "52d0b633-dcfc-467f-c0ee-0fd928522660"
      },
      "execution_count": 154,
      "outputs": [
        {
          "output_type": "stream",
          "name": "stdout",
          "text": [
            "El API del crudo ingresado es :  35\n"
          ]
        }
      ]
    },
    {
      "cell_type": "code",
      "source": [
        "API= input(\"ingrese la gravedad API de la muestra de petróleo: \")\n",
        "print(\"El API del crudo ingresado es : \",API)"
      ],
      "metadata": {
        "colab": {
          "base_uri": "https://localhost:8080/"
        },
        "id": "jrjr5eztaKAC",
        "outputId": "e354f313-4bcb-447f-ac9e-8e12a2ba3e03"
      },
      "execution_count": 160,
      "outputs": [
        {
          "output_type": "stream",
          "name": "stdout",
          "text": [
            "ingrese la gravedad API de la muestra de petróleo: 30\n",
            "El API del crudo ingresado es :  30\n"
          ]
        }
      ]
    },
    {
      "cell_type": "code",
      "source": [
        "API= int(input(\"ingrese la gravedad API de la muestra de petróleo: \"))\n",
        "#API= 141.5/SG -131.5  @60 °F\n",
        "SG= 141.5/(131.5+ API)\n",
        "print(\"La gravedad especifica del crudo ingresado es : \",SG)"
      ],
      "metadata": {
        "colab": {
          "base_uri": "https://localhost:8080/"
        },
        "id": "BDYxIF4zaVCA",
        "outputId": "de0e8ec7-6b2d-4ac0-c845-9334b0b527f4"
      },
      "execution_count": 168,
      "outputs": [
        {
          "output_type": "stream",
          "name": "stdout",
          "text": [
            "ingrese la gravedad API de la muestra de petróleo: 32\n",
            "La gravedad especifica del crudo ingresado es :  0.8654434250764526\n"
          ]
        }
      ]
    },
    {
      "cell_type": "markdown",
      "source": [
        "**Listas**\n"
      ],
      "metadata": {
        "id": "hi7eAcc0hO7W"
      }
    },
    {
      "cell_type": "code",
      "source": [
        "pressure= [3000,2500,2000,1500,1000,500,0]\n",
        "print(pressure)\n",
        "type(pressure)"
      ],
      "metadata": {
        "colab": {
          "base_uri": "https://localhost:8080/"
        },
        "id": "UpFEXQ8ab--4",
        "outputId": "56f3d39e-605f-42ea-a7ef-4569fbc6ffee"
      },
      "execution_count": 187,
      "outputs": [
        {
          "output_type": "stream",
          "name": "stdout",
          "text": [
            "[3000, 2500, 2000, 1500, 1000, 500, 0]\n"
          ]
        },
        {
          "output_type": "execute_result",
          "data": {
            "text/plain": [
              "list"
            ]
          },
          "metadata": {},
          "execution_count": 187
        }
      ]
    },
    {
      "cell_type": "code",
      "source": [
        "print(len(pressure))"
      ],
      "metadata": {
        "colab": {
          "base_uri": "https://localhost:8080/"
        },
        "id": "SABQAIZ_jTwG",
        "outputId": "e309ec90-65a5-48cc-b8b7-7fc3e47e3a72"
      },
      "execution_count": 173,
      "outputs": [
        {
          "output_type": "stream",
          "name": "stdout",
          "text": [
            "7\n"
          ]
        }
      ]
    },
    {
      "cell_type": "code",
      "source": [
        "#pressure[0]= 3000\n",
        "#pressure[1]=2500\n",
        "#pressure[2] =2000\n",
        "#...\n",
        "#pressure[6]=0\n",
        "print(pressure[-2])"
      ],
      "metadata": {
        "colab": {
          "base_uri": "https://localhost:8080/"
        },
        "id": "TdvXJP3nj2NH",
        "outputId": "531fe4c0-ecbe-4de9-a831-32f3a754d815"
      },
      "execution_count": 179,
      "outputs": [
        {
          "output_type": "stream",
          "name": "stdout",
          "text": [
            "500\n"
          ]
        }
      ]
    },
    {
      "cell_type": "code",
      "source": [
        "pressure.append(100)"
      ],
      "metadata": {
        "id": "myNIpkcJkcoh"
      },
      "execution_count": 185,
      "outputs": []
    },
    {
      "cell_type": "markdown",
      "source": [
        "**Tuplas**"
      ],
      "metadata": {
        "id": "0LBLjdi6od7_"
      }
    },
    {
      "cell_type": "code",
      "source": [
        "Temp= (250,200,150,100,60)\n",
        "type(Temp)"
      ],
      "metadata": {
        "colab": {
          "base_uri": "https://localhost:8080/"
        },
        "id": "Dph21w-poKqx",
        "outputId": "75d2f15c-7077-466c-b250-5bd32eb13357"
      },
      "execution_count": 186,
      "outputs": [
        {
          "output_type": "execute_result",
          "data": {
            "text/plain": [
              "tuple"
            ]
          },
          "metadata": {},
          "execution_count": 186
        }
      ]
    },
    {
      "cell_type": "code",
      "source": [
        "#Temp[0] = 250\n",
        "#Temp[1] = 200\n",
        "#Temp[2] = 150\n",
        "#,....\n",
        "#Temp[-1] = 60\n",
        "\n",
        "print(Temp[-1])"
      ],
      "metadata": {
        "colab": {
          "base_uri": "https://localhost:8080/"
        },
        "id": "lJi4AnyuoNMV",
        "outputId": "c3549a0c-2538-49eb-cf96-9a0635e53ce9"
      },
      "execution_count": 194,
      "outputs": [
        {
          "output_type": "stream",
          "name": "stdout",
          "text": [
            "60\n"
          ]
        }
      ]
    },
    {
      "cell_type": "markdown",
      "source": [
        "**Diccionarios**"
      ],
      "metadata": {
        "id": "pCZrn9izsVkK"
      }
    },
    {
      "cell_type": "code",
      "source": [
        "Well_info= {\n",
        "    \"name\": \"UPSE-1\",\n",
        "    \"Country\": \"Ecuador\",\n",
        "    \"Pressure Reservoir\": 2400,\n",
        "    \"Unit\": \"psi\"\n",
        "}\n"
      ],
      "metadata": {
        "id": "aXABpw_Gpy0h"
      },
      "execution_count": 199,
      "outputs": []
    },
    {
      "cell_type": "code",
      "source": [
        "Well_info['name']"
      ],
      "metadata": {
        "colab": {
          "base_uri": "https://localhost:8080/",
          "height": 35
        },
        "id": "b6DkborHtMAk",
        "outputId": "cbd715d1-59a4-4925-c975-d3b6b5ee421f"
      },
      "execution_count": 204,
      "outputs": [
        {
          "output_type": "execute_result",
          "data": {
            "text/plain": [
              "'UPSE-1'"
            ],
            "application/vnd.google.colaboratory.intrinsic+json": {
              "type": "string"
            }
          },
          "metadata": {},
          "execution_count": 204
        }
      ]
    },
    {
      "cell_type": "code",
      "source": [
        "Well_info[\"Country\"]=\"Argentina\"\n"
      ],
      "metadata": {
        "id": "y1_oQmt4uT7a"
      },
      "execution_count": 207,
      "outputs": []
    },
    {
      "cell_type": "markdown",
      "source": [
        "**Condiciones Logicas**\n",
        "\n",
        "* a > b\n",
        "* a < b\n",
        "* a == b\n",
        "* a != b\n",
        "* a >= b\n",
        "* a <=b\n",
        "\n",
        "\n"
      ],
      "metadata": {
        "id": "IYFSq5x9y7Ev"
      }
    },
    {
      "cell_type": "code",
      "source": [
        "a,b= 10,5\n",
        "print(a != b)"
      ],
      "metadata": {
        "colab": {
          "base_uri": "https://localhost:8080/"
        },
        "id": "uUSu2HK0y5gn",
        "outputId": "dff1dbf1-2c38-489f-b62a-e79e3498cf8a"
      },
      "execution_count": 212,
      "outputs": [
        {
          "output_type": "stream",
          "name": "stdout",
          "text": [
            "False\n"
          ]
        }
      ]
    },
    {
      "cell_type": "markdown",
      "source": [
        "**If, Elif & Else**"
      ],
      "metadata": {
        "id": "Gz7dXbsC0Iy2"
      }
    },
    {
      "cell_type": "code",
      "source": [
        "#bajo balance ----> Pmud < Pf\n",
        "# balance --------> Pmud == Pf\n",
        "# Sobre balance --> Pmud > Pf \n",
        "\n",
        "Den= 10.5 #ppg\n",
        "Depth= 6000 #ft\n",
        "Pf= 3500 #psi\n",
        "Pmud= 0.052*Den*Depth"
      ],
      "metadata": {
        "id": "dF7uDUHHzyTJ"
      },
      "execution_count": 236,
      "outputs": []
    },
    {
      "cell_type": "code",
      "source": [
        "if Pmud < Pf:\n",
        "  print(\"EL pozo se está perforando actualmente en Bajo balance\")\n",
        "  print(\"La presion hidrostatica del lodo es\", Pmud, \"psi\")\n",
        "else:\n",
        "  print(\"El pozo se está perforando actualmentre en sobre balance\")\n",
        "  print(\"La presion hidrostatica del lodo es\", Pmud, \"psi\")\n"
      ],
      "metadata": {
        "colab": {
          "base_uri": "https://localhost:8080/"
        },
        "id": "WPH8yNqE2fOk",
        "outputId": "956ea3ed-3fb6-4c24-9731-d0f1e2363217"
      },
      "execution_count": 234,
      "outputs": [
        {
          "output_type": "stream",
          "name": "stdout",
          "text": [
            "EL pozo se está perforando actualmente en Bajo balance\n",
            "La presion hidrostatica del lodo es 3499.9999999999995 psi\n"
          ]
        }
      ]
    },
    {
      "cell_type": "code",
      "source": [
        "\n",
        "if Pmud < Pf:\n",
        "  print(\"EL pozo se está perforando actualmente en Bajo balance\")\n",
        "  print(\"La presion hidrostatica del lodo es\", Pmud, \"psi\")\n",
        "elif Pmud == Pf:\n",
        "  print(\"El pozo se está perforando actualmentre en balance\")\n",
        "  print(\"La presion hidrostatica del lodo es\", Pmud, \"psi\")\n",
        "elif Pmud > Pf:\n",
        "  print(\"El pozo se está perforando actualmentre en sobre balance\")\n",
        "  print(\"La presion hidrostatica del lodo es\", Pmud, \"psi\")"
      ],
      "metadata": {
        "colab": {
          "base_uri": "https://localhost:8080/"
        },
        "id": "WsZMku6d6sLQ",
        "outputId": "a216c29e-1fcb-4a27-a0ca-bf62b13408c9"
      },
      "execution_count": 238,
      "outputs": [
        {
          "output_type": "stream",
          "name": "stdout",
          "text": [
            "El pozo se está perforando actualmentre en balance\n",
            "La presion hidrostatica del lodo es 2500 psi\n"
          ]
        }
      ]
    },
    {
      "cell_type": "markdown",
      "source": [
        "**operador and & or**"
      ],
      "metadata": {
        "id": "K358L3j69Jep"
      }
    },
    {
      "cell_type": "code",
      "source": [
        "Well_info= {\n",
        "    \"name\": \"UPSE-1\",\n",
        "    \"Country\": \"Ecuador\",\n",
        "    \"Pressure Reservoir\": 2400,\n",
        "    \"Unit\": \"psi\"\n",
        "}\n"
      ],
      "metadata": {
        "id": "j2aK-SFw7qlX"
      },
      "execution_count": 239,
      "outputs": []
    },
    {
      "cell_type": "code",
      "source": [
        "if Well_info[\"name\"] == \"UPSE-1\" and Well_info[\"Pressure Reservoir\"] == 2400 and Well_info[\"Unit\"] == \"psi\" :\n",
        "  print(\"Los datos son correctos\")\n",
        "else:\n",
        "  print(\"los datos son incorrectos\") "
      ],
      "metadata": {
        "colab": {
          "base_uri": "https://localhost:8080/"
        },
        "id": "Nm_Wy5vl9kPU",
        "outputId": "dead0537-5774-49d8-c510-0e39803e388f"
      },
      "execution_count": 244,
      "outputs": [
        {
          "output_type": "stream",
          "name": "stdout",
          "text": [
            "Los datos son correctos\n"
          ]
        }
      ]
    },
    {
      "cell_type": "code",
      "source": [
        "if Well_info[\"name\"] == \"UPSE-2\" or Well_info[\"Pressure Reservoir\"] == 2500 or Well_info[\"Unit\"] == \"psi\" :\n",
        "  print(\"Los datos son correctos\")\n",
        "else:\n",
        "  print(\"los datos son incorrectos\")"
      ],
      "metadata": {
        "colab": {
          "base_uri": "https://localhost:8080/"
        },
        "id": "SI7ifsds-G3D",
        "outputId": "360b3eb7-2471-4f0f-df75-3d50c9f49b88"
      },
      "execution_count": 249,
      "outputs": [
        {
          "output_type": "stream",
          "name": "stdout",
          "text": [
            "Los datos son correctos\n"
          ]
        }
      ]
    },
    {
      "cell_type": "code",
      "source": [
        ""
      ],
      "metadata": {
        "id": "2VR9-oA8-qz5"
      },
      "execution_count": null,
      "outputs": []
    }
  ]
}