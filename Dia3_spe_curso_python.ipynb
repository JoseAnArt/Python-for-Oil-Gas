{
  "nbformat": 4,
  "nbformat_minor": 0,
  "metadata": {
    "colab": {
      "name": "Dia3_spe_curso_python.ipynb",
      "provenance": [],
      "collapsed_sections": [],
      "authorship_tag": "ABX9TyMYROACmUBSyWuDJIkgFAYc",
      "include_colab_link": true
    },
    "kernelspec": {
      "name": "python3",
      "display_name": "Python 3"
    },
    "language_info": {
      "name": "python"
    }
  },
  "cells": [
    {
      "cell_type": "markdown",
      "metadata": {
        "id": "view-in-github",
        "colab_type": "text"
      },
      "source": [
        "<a href=\"https://colab.research.google.com/github/JoseAnArt/Python-for-Oil-Gas/blob/main/Dia3_spe_curso_python.ipynb\" target=\"_parent\"><img src=\"https://colab.research.google.com/assets/colab-badge.svg\" alt=\"Open In Colab\"/></a>"
      ]
    },
    {
      "cell_type": "markdown",
      "source": [
        "**Numpy**"
      ],
      "metadata": {
        "id": "OU6ZIxnSGhZA"
      }
    },
    {
      "cell_type": "markdown",
      "source": [
        "NumPy es una biblioteca de Python.\n",
        "\n",
        "NumPy se utiliza para trabajar con arrays.\n",
        "\n",
        "NumPy significa Python numérico."
      ],
      "metadata": {
        "id": "xZj9YQ0lIoCW"
      }
    },
    {
      "cell_type": "markdown",
      "source": [
        "**Instalación de NumPy**"
      ],
      "metadata": {
        "id": "3lxMIPvlKK5o"
      }
    },
    {
      "cell_type": "code",
      "source": [
        "#pip install numpy"
      ],
      "metadata": {
        "id": "O8XHz0CoGqEz"
      },
      "execution_count": null,
      "outputs": []
    },
    {
      "cell_type": "markdown",
      "source": [
        "**Importar numpy**"
      ],
      "metadata": {
        "id": "S7zQRfARKTBA"
      }
    },
    {
      "cell_type": "code",
      "source": [
        "import numpy as np"
      ],
      "metadata": {
        "id": "vuIPo7uRKSNI"
      },
      "execution_count": 2,
      "outputs": []
    },
    {
      "cell_type": "code",
      "source": [
        "arr= np.array([1,2,3])"
      ],
      "metadata": {
        "id": "8DqBJ36UKgQn"
      },
      "execution_count": null,
      "outputs": []
    },
    {
      "cell_type": "code",
      "source": [
        "#podemos mostrar el array\n",
        "print(arr)\n"
      ],
      "metadata": {
        "colab": {
          "base_uri": "https://localhost:8080/"
        },
        "id": "N0l8btLyK8PH",
        "outputId": "ebc17d19-2dac-425d-ea51-499972618910"
      },
      "execution_count": null,
      "outputs": [
        {
          "output_type": "stream",
          "name": "stdout",
          "text": [
            "[1 2 3]\n"
          ]
        }
      ]
    },
    {
      "cell_type": "code",
      "source": [
        "#matrices de dimension 0 \n",
        "arrd0= np.array(12)\n",
        "print(arrd0)"
      ],
      "metadata": {
        "colab": {
          "base_uri": "https://localhost:8080/"
        },
        "id": "xCO-GC9zLNas",
        "outputId": "6939a7aa-fee0-45b9-8759-987f47810f15"
      },
      "execution_count": null,
      "outputs": [
        {
          "output_type": "stream",
          "name": "stdout",
          "text": [
            "12\n"
          ]
        }
      ]
    },
    {
      "cell_type": "code",
      "source": [
        "#matrices de dimension 1-D\n",
        "arrd1= np.array([1,2,3,4,5,7])\n",
        "print(arrd1)"
      ],
      "metadata": {
        "colab": {
          "base_uri": "https://localhost:8080/"
        },
        "id": "FHKmDQdNNe_b",
        "outputId": "177c4b86-195d-4bca-dd00-1f1ead38ab30"
      },
      "execution_count": null,
      "outputs": [
        {
          "output_type": "stream",
          "name": "stdout",
          "text": [
            "[1 2 3 4 5 7]\n"
          ]
        }
      ]
    },
    {
      "cell_type": "code",
      "source": [
        "#matrices de dimension 2-D\n",
        "arrd2= np.array([[1,2,3],[4,5,6]])\n",
        "print(arrd2)"
      ],
      "metadata": {
        "colab": {
          "base_uri": "https://localhost:8080/"
        },
        "id": "wuucXF3aN03-",
        "outputId": "12ccfc31-e170-45d5-d343-898452512a05"
      },
      "execution_count": null,
      "outputs": [
        {
          "output_type": "stream",
          "name": "stdout",
          "text": [
            "[[1 2 3]\n",
            " [4 5 6]]\n"
          ]
        }
      ]
    },
    {
      "cell_type": "code",
      "source": [
        "#matrices de dimension 3-D\n",
        "arrd2= np.array([[1,2,3],[4,5,6],[7,8,9]])\n",
        "print(arrd2)"
      ],
      "metadata": {
        "colab": {
          "base_uri": "https://localhost:8080/"
        },
        "id": "8QN881G0OBga",
        "outputId": "de4a0ca0-dec4-40b9-ab77-5b2c7a92b7a7"
      },
      "execution_count": null,
      "outputs": [
        {
          "output_type": "stream",
          "name": "stdout",
          "text": [
            "[[1 2 3]\n",
            " [4 5 6]\n",
            " [7 8 9]]\n"
          ]
        }
      ]
    },
    {
      "cell_type": "code",
      "source": [
        "#revisar el numero de dimensiones\n",
        "arr= np.array([[2,5,7],[10,58,93]])\n",
        "print(arr.ndim)"
      ],
      "metadata": {
        "colab": {
          "base_uri": "https://localhost:8080/"
        },
        "id": "pPzDeXZNONDe",
        "outputId": "f728faed-4dc0-4aa1-89f0-7fb264e6e790"
      },
      "execution_count": null,
      "outputs": [
        {
          "output_type": "stream",
          "name": "stdout",
          "text": [
            "2\n"
          ]
        }
      ]
    },
    {
      "cell_type": "code",
      "source": [
        "#acceder a los elementos del array\n",
        "#La indexación de matrices es lo mismo que acceder a un elemento de matriz o lista.\n",
        "#Puede acceder a un elemento de matriz consultando su número de índice.\n",
        "#Los índices en las matrices NumPy comienzan con 0, lo que significa que el primer elemento tiene el índice 0 y el segundo tiene el índice 1,.. etc\n",
        "#por ejemplo hay que obtener el 5to elemento de esta matriz\n",
        "arrt= np.array([1,2,3,4,5,7,9])\n",
        "print(arrt[4])\n",
        "#si queremos obtener el ultimo numero de la matriz lo podemos obtener de esta manera\n",
        "print(arrt[-1])\n"
      ],
      "metadata": {
        "id": "eKvUuTsFOn_e"
      },
      "execution_count": null,
      "outputs": []
    },
    {
      "cell_type": "code",
      "source": [
        "#tambien podemos acceder a matrices de 2D y 3D\n",
        "arr2D= np.array([[1,2,3],[4,5,6]])\n",
        "print(arr2D)\n",
        "#print(arr2D[\"#de dimension o fila\",\"posicion del elemento \"])"
      ],
      "metadata": {
        "colab": {
          "base_uri": "https://localhost:8080/"
        },
        "id": "oVBMrXWgTsmY",
        "outputId": "5afcbf31-c947-495a-89d5-497f17f547c6"
      },
      "execution_count": null,
      "outputs": [
        {
          "output_type": "stream",
          "name": "stdout",
          "text": [
            "[[1 2 3]\n",
            " [4 5 6]]\n"
          ]
        }
      ]
    },
    {
      "cell_type": "code",
      "source": [
        "#acceder al segundo numero de la primera fila\n",
        "arr2D= np.array([[1,2,3],[4,5,6]])\n",
        "print(arr2D[0,1])\n"
      ],
      "metadata": {
        "id": "IIFJVb2pVG-u"
      },
      "execution_count": null,
      "outputs": []
    },
    {
      "cell_type": "code",
      "source": [
        "#para matrices en 3D\n",
        "arr3D = np.array([[1, 2, 3], [4, 5, 6], [7, 8, 9]])\n",
        "print(arr3D)"
      ],
      "metadata": {
        "colab": {
          "base_uri": "https://localhost:8080/"
        },
        "id": "72aC9wdZVv3B",
        "outputId": "cb48abad-720a-4ce6-cd57-52f38a0f8334"
      },
      "execution_count": null,
      "outputs": [
        {
          "output_type": "stream",
          "name": "stdout",
          "text": [
            "[[1 2 3]\n",
            " [4 5 6]\n",
            " [7 8 9]]\n"
          ]
        }
      ]
    },
    {
      "cell_type": "code",
      "source": [
        "#acceder al tercer numero de la tercera fila\n",
        "print(arr3D[2,2])"
      ],
      "metadata": {
        "id": "Upzph9LSWL6A"
      },
      "execution_count": null,
      "outputs": []
    },
    {
      "cell_type": "code",
      "source": [
        "#accediendo a matrices con bucles\n",
        "\n",
        "por= np.array([0.2,0.22,0.24,0.26,0.28,0.30,0.35])\n",
        "for x in range(len(por)):\n",
        "  print(por[x])"
      ],
      "metadata": {
        "id": "RuQqucFyZs7v"
      },
      "execution_count": null,
      "outputs": []
    },
    {
      "cell_type": "code",
      "source": [
        "\n",
        "#añadiendo valores a una matriz, usando el metodo append()\n",
        "press= np.array([])\n",
        "for pwf in range(1000,2500,100):\n",
        "  press= np.append(press,pwf)\n",
        "print(press)\n"
      ],
      "metadata": {
        "colab": {
          "base_uri": "https://localhost:8080/"
        },
        "id": "AP1qYVqYWvsN",
        "outputId": "2ee9fa72-2383-4604-d4f2-bcd8925f998a"
      },
      "execution_count": 14,
      "outputs": [
        {
          "output_type": "stream",
          "name": "stdout",
          "text": [
            "[1000. 1100. 1200. 1300. 1400. 1500. 1600. 1700. 1800. 1900. 2000. 2100.\n",
            " 2200. 2300. 2400.]\n"
          ]
        }
      ]
    },
    {
      "cell_type": "code",
      "source": [
        "#creando matrices de n valores con el metodo linspace().\n",
        "\n",
        "Pwf= np.linspace(start=1000, stop=2800,num=8)\n",
        "print(Pwf)"
      ],
      "metadata": {
        "id": "uXO_AjR3btkP"
      },
      "execution_count": null,
      "outputs": []
    },
    {
      "cell_type": "markdown",
      "source": [
        "**Matplotlib**\n",
        "* Matplotlib es una biblioteca de trazado de gráficos de bajo nivel en python que sirve como una utilidad de visualización."
      ],
      "metadata": {
        "id": "aeOVrCuWqNgf"
      }
    },
    {
      "cell_type": "markdown",
      "source": [
        "**Instalacion de matplotlib**\n"
      ],
      "metadata": {
        "id": "1lysTd9ZooKN"
      }
    },
    {
      "cell_type": "code",
      "source": [
        "#pip install matplotlib"
      ],
      "metadata": {
        "id": "RcnIKRvWb9Cc"
      },
      "execution_count": null,
      "outputs": []
    },
    {
      "cell_type": "markdown",
      "source": [
        "**Imporrar matplotlib**"
      ],
      "metadata": {
        "id": "Mouh0DqUq6zr"
      }
    },
    {
      "cell_type": "code",
      "source": [
        "import matplotlib.pyplot as plt"
      ],
      "metadata": {
        "id": "PUIvQY-xeJD_"
      },
      "execution_count": 3,
      "outputs": []
    },
    {
      "cell_type": "code",
      "source": [
        "#podemos crear una funcion lineal y graficarla\n",
        "\n",
        "#y= 2x+10\n",
        "x= np.linspace(1,10,10)\n",
        "y=(x+1)\n",
        "plt.plot(x,y)\n",
        "plt.xlabel(\"x\")\n",
        "plt.ylabel(\"y\")\n",
        "print(x)\n",
        "plt.show()"
      ],
      "metadata": {
        "colab": {
          "base_uri": "https://localhost:8080/",
          "height": 296
        },
        "id": "FByFr4J_f2mQ",
        "outputId": "d69fccc7-d202-4887-a7df-0bb516c3b834"
      },
      "execution_count": 5,
      "outputs": [
        {
          "output_type": "stream",
          "name": "stdout",
          "text": [
            "[ 1.  2.  3.  4.  5.  6.  7.  8.  9. 10.]\n"
          ]
        },
        {
          "output_type": "display_data",
          "data": {
            "text/plain": [
              "<Figure size 432x288 with 1 Axes>"
            ],
            "image/png": "[encoded data removed]"
          },
          "metadata": {
            "needs_background": "light"
          }
        }
      ]
    },
    {
      "cell_type": "code",
      "source": [
        "#podemos crear una funcion cuadratrica y graficarla\n",
        "x= np.linspace(-10,10,100)\n",
        "y=(x**2+1)\n",
        "plt.plot(x,y)\n",
        "plt.xlabel(\"x\")\n",
        "plt.ylabel(\"y\")\n",
        "plt.grid()\n",
        "plt.show()"
      ],
      "metadata": {
        "id": "9MNoIvBLr9dW",
        "colab": {
          "base_uri": "https://localhost:8080/",
          "height": 279
        },
        "outputId": "7ae6ca87-4773-43ed-ebac-eecc72a6e6d5"
      },
      "execution_count": 9,
      "outputs": [
        {
          "output_type": "display_data",
          "data": {
            "text/plain": [
              "<Figure size 432x288 with 1 Axes>"
            ],
            "image/png": "[encoded data removed]"
          },
          "metadata": {
            "needs_background": "light"
          }
        }
      ]
    },
    {
      "cell_type": "markdown",
      "source": [
        "**Práctica**"
      ],
      "metadata": {
        "id": "qaUjjidzZEam"
      }
    },
    {
      "cell_type": "code",
      "source": [
        "#vamos a graficar una curva inflow usando lo aprendido en clases.\n",
        "\n",
        "#lo haremos con la ecuacion de vogel"
      ],
      "metadata": {
        "id": "_pfrNEtoZxEf"
      },
      "execution_count": null,
      "outputs": []
    },
    {
      "cell_type": "markdown",
      "source": [
        "![image.png](data:image/png;base64,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)\n",
        "donde:\n",
        "* Pwf= presion de fondo fluyente   psi\n",
        "* Qo= tasa de produccion           bbl/d\n",
        "* Pr= presion de reservorio        psi  \n",
        "* Qmax= tasa de produccion maxima  bbl/d "
      ],
      "metadata": {
        "id": "cIWfpKAkhi9L"
      }
    },
    {
      "cell_type": "markdown",
      "source": [
        "![image.png](data:image/png;base64,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)"
      ],
      "metadata": {
        "id": "fJgN8GTsjwg6"
      }
    },
    {
      "cell_type": "code",
      "source": [
        "#el primer paso para resorver este ejercicio es definir algunas variables\n",
        "Pr= 2400\n",
        "qo= 100\n",
        "Pwf= 1800\n",
        "\n",
        "#segundo calcular el Qomax\n",
        "qomax= qo/(1-0.2*(Pwf/Pr)-0.8*(Pwf/Pr)**2)\n",
        "qomax"
      ],
      "metadata": {
        "colab": {
          "base_uri": "https://localhost:8080/"
        },
        "id": "11CFDHgXhkZq",
        "outputId": "df151df3-1cf5-40a7-b36f-d2b2c03abde2"
      },
      "execution_count": 10,
      "outputs": [
        {
          "output_type": "execute_result",
          "data": {
            "text/plain": [
              "250.00000000000003"
            ]
          },
          "metadata": {},
          "execution_count": 10
        }
      ]
    },
    {
      "cell_type": "code",
      "source": [
        "# ahora vamos a calcular el caudal a presion de 1000 psi\n",
        "Pwf= 800\n",
        "Q = qomax*(1-0.2*(Pwf/Pr)-0.8*(Pwf/Pr)**2)\n",
        "Q\n"
      ],
      "metadata": {
        "colab": {
          "base_uri": "https://localhost:8080/"
        },
        "id": "9818_m42kzDZ",
        "outputId": "1b450c44-e1b8-4e40-b265-d4071a019f29"
      },
      "execution_count": 12,
      "outputs": [
        {
          "output_type": "execute_result",
          "data": {
            "text/plain": [
              "211.11111111111114"
            ]
          },
          "metadata": {},
          "execution_count": 12
        }
      ]
    },
    {
      "cell_type": "code",
      "source": [
        "#ahora podemos graficar la curva inflow\n",
        "Qarr= np.array([])\n",
        "Pwfarr= np.array([])\n",
        "for Pwf in range(0,Pr+1,100):\n",
        "  Q = qomax*(1-0.2*(Pwf/Pr)-0.8*(Pwf/Pr)**2)\n",
        "  Qarr= np.append(Qarr,Q)\n",
        "  Pwfarr= np.append(Pwfarr,Pwf)\n",
        "plt.plot(Qarr,Pwfarr)"
      ],
      "metadata": {
        "colab": {
          "base_uri": "https://localhost:8080/",
          "height": 235
        },
        "id": "dqswQXQblsxF",
        "outputId": "109d87d1-72bc-405b-9dd9-8f74b44d7eb4"
      },
      "execution_count": 94,
      "outputs": [
        {
          "output_type": "error",
          "ename": "TypeError",
          "evalue": "ignored",
          "traceback": [
            "\u001b[0;31m---------------------------------------------------------------------------\u001b[0m",
            "\u001b[0;31mTypeError\u001b[0m                                 Traceback (most recent call last)",
            "\u001b[0;32m<ipython-input-94-bbb8489b8006>\u001b[0m in \u001b[0;36m<module>\u001b[0;34m()\u001b[0m\n\u001b[1;32m      2\u001b[0m \u001b[0mQarr\u001b[0m\u001b[0;34m=\u001b[0m \u001b[0mnp\u001b[0m\u001b[0;34m.\u001b[0m\u001b[0marray\u001b[0m\u001b[0;34m(\u001b[0m\u001b[0;34m[\u001b[0m\u001b[0;34m]\u001b[0m\u001b[0;34m)\u001b[0m\u001b[0;34m\u001b[0m\u001b[0;34m\u001b[0m\u001b[0m\n\u001b[1;32m      3\u001b[0m \u001b[0mPwfarr\u001b[0m\u001b[0;34m=\u001b[0m \u001b[0mnp\u001b[0m\u001b[0;34m.\u001b[0m\u001b[0marray\u001b[0m\u001b[0;34m(\u001b[0m\u001b[0;34m[\u001b[0m\u001b[0;34m]\u001b[0m\u001b[0;34m)\u001b[0m\u001b[0;34m\u001b[0m\u001b[0;34m\u001b[0m\u001b[0m\n\u001b[0;32m----> 4\u001b[0;31m \u001b[0;32mfor\u001b[0m \u001b[0mPwf\u001b[0m \u001b[0;32min\u001b[0m \u001b[0mrange\u001b[0m\u001b[0;34m(\u001b[0m\u001b[0;36m0\u001b[0m\u001b[0;34m,\u001b[0m\u001b[0;36m2200.2\u001b[0m\u001b[0;34m,\u001b[0m\u001b[0;36m100\u001b[0m\u001b[0;34m)\u001b[0m\u001b[0;34m:\u001b[0m\u001b[0;34m\u001b[0m\u001b[0;34m\u001b[0m\u001b[0m\n\u001b[0m\u001b[1;32m      5\u001b[0m   \u001b[0mQ\u001b[0m \u001b[0;34m=\u001b[0m \u001b[0mqomax\u001b[0m\u001b[0;34m*\u001b[0m\u001b[0;34m(\u001b[0m\u001b[0;36m1\u001b[0m\u001b[0;34m-\u001b[0m\u001b[0;36m0.2\u001b[0m\u001b[0;34m*\u001b[0m\u001b[0;34m(\u001b[0m\u001b[0mPwf\u001b[0m\u001b[0;34m/\u001b[0m\u001b[0mPr\u001b[0m\u001b[0;34m)\u001b[0m\u001b[0;34m-\u001b[0m\u001b[0;36m0.8\u001b[0m\u001b[0;34m*\u001b[0m\u001b[0;34m(\u001b[0m\u001b[0mPwf\u001b[0m\u001b[0;34m/\u001b[0m\u001b[0mPr\u001b[0m\u001b[0;34m)\u001b[0m\u001b[0;34m**\u001b[0m\u001b[0;36m2\u001b[0m\u001b[0;34m)\u001b[0m\u001b[0;34m\u001b[0m\u001b[0;34m\u001b[0m\u001b[0m\n\u001b[1;32m      6\u001b[0m   \u001b[0mQarr\u001b[0m\u001b[0;34m=\u001b[0m \u001b[0mnp\u001b[0m\u001b[0;34m.\u001b[0m\u001b[0mappend\u001b[0m\u001b[0;34m(\u001b[0m\u001b[0mQarr\u001b[0m\u001b[0;34m,\u001b[0m\u001b[0mQ\u001b[0m\u001b[0;34m)\u001b[0m\u001b[0;34m\u001b[0m\u001b[0;34m\u001b[0m\u001b[0m\n",
            "\u001b[0;31mTypeError\u001b[0m: 'float' object cannot be interpreted as an integer"
          ]
        }
      ]
    },
    {
      "cell_type": "code",
      "source": [
        "#ahora podemos graficar la curva inflow\n",
        "IPR= np.array([[],[]])\n",
        "#Pwfarr= np.array([])\n",
        "for Pwf in range(0,Pr+1,100):\n",
        "  Q = qomax*(1-0.2*(Pwf/Pr)-0.8*(Pwf/Pr)**2)\n",
        "  IPR= np.append(IPR,[[Q],[Pwf]],1)\n",
        "plt.plot(IPR[0],IPR[1])\n",
        "plt.xlabel(\"Caudal stb/d\")\n",
        "plt.ylabel(\"Presion psi \")\n",
        "plt.title(\"Grafica IPR\", color= \"red\", fontsize= 20, fontstyle= \"normal\")"
      ],
      "metadata": {
        "colab": {
          "base_uri": "https://localhost:8080/",
          "height": 317
        },
        "id": "rLObOyQBn9HU",
        "outputId": "cd0b4588-5abe-4218-b678-99b55ac89095"
      },
      "execution_count": 65,
      "outputs": [
        {
          "output_type": "execute_result",
          "data": {
            "text/plain": [
              "Text(0.5, 1.0, 'Grafica IPR')"
            ]
          },
          "metadata": {},
          "execution_count": 65
        },
        {
          "output_type": "display_data",
          "data": {
            "text/plain": [
              "<Figure size 432x288 with 1 Axes>"
            ],
            "image/png": "[encoded data removed]"
          },
          "metadata": {
            "needs_background": "light"
          }
        }
      ]
    },
    {
      "cell_type": "code",
      "source": [
        "#Ahora lo añadiremos a una funcion\n",
        "\n",
        "def IPR_vogel(Pr,Pwf,qo):\n",
        "  qomax= qo/(1-0.2*(Pwf/Pr)-0.8*(Pwf/Pr)**2)\n",
        "  print(f\"El caudal maximo es: {round(qomax,2)} bbl/d\")\n",
        "  Qarr= np.array([])\n",
        "  Pwfarr= np.array([])\n",
        "  for Pwf in range(0,Pr+1,100):\n",
        "    Q = qomax*(1-0.2*(Pwf/Pr)-0.8*(Pwf/Pr)**2)\n",
        "    Qarr= np.append(Qarr,Q)\n",
        "    Pwfarr= np.append(Pwfarr,Pwf)\n",
        "  plt.plot(Qarr,Pwfarr)\n",
        "  plt.xlabel(\"Caudal stb/d\")\n",
        "  plt.ylabel(\"Presion psi \")\n",
        "  plt.xlim(0)\n",
        "  plt.ylim(0)\n",
        "  plt.title(\"IPR Vogel \", color= \"red\", fontsize= 20, fontstyle= \"normal\")\n"
      ],
      "metadata": {
        "id": "1c6Qab08obIR"
      },
      "execution_count": 99,
      "outputs": []
    },
    {
      "cell_type": "code",
      "source": [
        "Pr= int(input(\"Ingrese la presion de reservorio (psi) :\"))\n",
        "Pwf= int(input(\"Ingrese la presion de fondo de pozo (psi) :\"))\n",
        "qo= int(input(\"Ingrese el caudal (bbl/d): \"))\n",
        "IPR_vogel(int(Pr),Pwf,qo)"
      ],
      "metadata": {
        "colab": {
          "base_uri": "https://localhost:8080/",
          "height": 369
        },
        "id": "dR5VMYCNv5-j",
        "outputId": "65ef9898-a3bf-4f12-a6b1-3f60a7917f51"
      },
      "execution_count": 101,
      "outputs": [
        {
          "output_type": "stream",
          "name": "stdout",
          "text": [
            "Ingrese la presion de reservorio (psi) :2500\n",
            "Ingrese la presion de fondo de pozo (psi) :1234\n",
            "Ingrese el caudal (bbl/d): 123\n",
            "El caudal maximo es: 174.13 bbl/d\n"
          ]
        },
        {
          "output_type": "display_data",
          "data": {
            "text/plain": [
              "<Figure size 432x288 with 1 Axes>"
            ],
            "image/png": "[encoded data removed]"
          },
          "metadata": {
            "needs_background": "light"
          }
        }
      ]
    },
    {
      "cell_type": "code",
      "source": [
        "\n"
      ],
      "metadata": {
        "colab": {
          "base_uri": "https://localhost:8080/"
        },
        "id": "C7UZNVjI0cgN",
        "outputId": "c3968cd2-cfc9-4238-81ac-95de54410848"
      },
      "execution_count": 77,
      "outputs": [
        {
          "output_type": "execute_result",
          "data": {
            "text/plain": [
              "0.0"
            ]
          },
          "metadata": {},
          "execution_count": 77
        }
      ]
    },
    {
      "cell_type": "code",
      "source": [
        ""
      ],
      "metadata": {
        "id": "yBFApO3O17oq"
      },
      "execution_count": null,
      "outputs": []
    }
  ]
}