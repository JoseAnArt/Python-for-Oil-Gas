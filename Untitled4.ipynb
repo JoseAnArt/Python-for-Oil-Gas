{
  "nbformat": 4,
  "nbformat_minor": 0,
  "metadata": {
    "colab": {
      "name": "Untitled4.ipynb",
      "provenance": [],
      "authorship_tag": "ABX9TyPvhXgOQTzegLM2WcfwUdUc",
      "include_colab_link": true
    },
    "kernelspec": {
      "name": "python3",
      "display_name": "Python 3"
    },
    "language_info": {
      "name": "python"
    }
  },
  "cells": [
    {
      "cell_type": "markdown",
      "metadata": {
        "id": "view-in-github",
        "colab_type": "text"
      },
      "source": [
        "<a href=\"https://colab.research.google.com/github/JoseAnArt/Python-for-Oil-Gas/blob/main/Untitled4.ipynb\" target=\"_parent\"><img src=\"https://colab.research.google.com/assets/colab-badge.svg\" alt=\"Open In Colab\"/></a>"
      ]
    },
    {
      "cell_type": "code",
      "execution_count": 18,
      "metadata": {
        "colab": {
          "base_uri": "https://localhost:8080/"
        },
        "id": "Zod6S1zdfs9u",
        "outputId": "91ea9566-e3eb-4809-b051-c44ace7c9063"
      },
      "outputs": [
        {
          "output_type": "stream",
          "name": "stdout",
          "text": [
            "Ingrese el año del vehiculo: 1980\n",
            "Ingrese al peso del vehiculo: 2350\n",
            "Los datos del vehiculo son los siguientes:\n",
            " Año: 1980\n",
            " Peso: 2350 lbs.\n",
            " tarifa: 19.5 $\n",
            " clase: 7\n"
          ]
        }
      ],
      "source": [
        "año= int(input(\"Ingrese el año del vehiculo: \"))\n",
        "peso= int(input(\"Ingrese al peso del vehiculo: \"))\n",
        "\n",
        "def ANT(año, peso):\n",
        "  if año <= 1970 and año >=1950:\n",
        "    if peso < 2700 and peso > 1500:\n",
        "      tarifa= 16.50\n",
        "      clase= 1\n",
        "    elif peso >= 2700 and peso <= 3800:\n",
        "      tarifa= 26.50\n",
        "      clase= 2\n",
        "    elif peso > 3800:\n",
        "      tarifa= 46.50\n",
        "      clase= 3\n",
        "  elif año >= 1971 and año <=1979:\n",
        "    if peso < 2700 and peso > 1500:\n",
        "      tarifa= 27\n",
        "      clase= 4\n",
        "    elif peso >= 2700 and peso <= 3800:\n",
        "      tarifa= 30.50\n",
        "      clase= 5\n",
        "    elif peso > 3800:\n",
        "      tarifa= 52.50\n",
        "      clase= 6\n",
        "  elif año >= 1980 and año <=2020:\n",
        "    if peso < 3500:\n",
        "      tarifa= 19.50\n",
        "      clase= 7\n",
        "    elif peso >= 3500:\n",
        "      tarifa= 52.50\n",
        "      clase= 8\n",
        "    print(f'Los datos del vehiculo son los siguientes:\\n Año: {año}\\n Peso: {peso} lbs.\\n tarifa: {tarifa} $\\n clase: {clase}')\n",
        "  else:\n",
        "    print('Los datos ingresados son invalidos, por favor volver a ingresar')\n",
        "\n",
        "ANT(año,peso)\n"
      ]
    },
    {
      "cell_type": "code",
      "source": [
        "año= int(input(\"Ingrese el año del vehiculo: \"))\n",
        "peso= int(input(\"Ingrese al peso del vehiculo: \"))\n",
        "ANT(año,peso)"
      ],
      "metadata": {
        "colab": {
          "base_uri": "https://localhost:8080/"
        },
        "id": "FQ3DpVS2iFi0",
        "outputId": "f25ccbe5-e491-429e-9472-04f5f4cdb218"
      },
      "execution_count": 8,
      "outputs": [
        {
          "output_type": "stream",
          "name": "stdout",
          "text": [
            "Ingrese el año del vehiculo: 1980\n",
            "Ingrese al peso del vehiculo: 2700\n",
            "los datos estan mal\n"
          ]
        }
      ]
    },
    {
      "cell_type": "code",
      "source": [
        ""
      ],
      "metadata": {
        "id": "npupIei4iqu1"
      },
      "execution_count": null,
      "outputs": []
    }
  ]
}